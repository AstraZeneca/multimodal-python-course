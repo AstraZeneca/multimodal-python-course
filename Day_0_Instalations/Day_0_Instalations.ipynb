{
 "cells": [
  {
   "attachments": {},
   "cell_type": "markdown",
   "metadata": {},
   "source": [
    "# Introduction\n",
    "\n",
    "\n",
    "### Course structure\n",
    "\n",
    "This is a data science course entitled *Navigating the Multimodal Map: Insights into Foundation Models* (hereafter referred to just *Multimodal workshop*) designed for participants with working knowledge of Python. The course will be run over **3 days** with the following structure.\n",
    "\n",
    "- **Lectures** will start with information about multimodal learning techniques, concepts such as how to use the *attention*, *data fusion* and *self supervised learning*. Each lecture will be provided by AZ professional working within multimodal setup.\n",
    "\n",
    "- In the **hand-on sessions** the trainers will provide a walk-through the Jupyter notebooks and answer any questions.\n",
    "\n",
    "- **During the week**, participants are invited to review the materials presented during session and dive into extra materials provided by instructors.\n",
    "\n",
    "\n",
    "### Aims\n",
    "\n",
    "The course will cover concepts and strategies for working with multimodal data. During *Multimodal workshop* participants will learn about:   \n",
    "\n",
    "- The fundamental principles of **multimodal data integration** and how it can provide a more comprehensive understanding of disease processes.  \n",
    "- The latest breakthroughs and technologies in multimodal data science, and how these advancements are shaping the future of healthcare. \n",
    "- **Practical applications** of multimodal data science within AstraZeneca, drawing insights from real-world case studies to illustrate the impact on therapeutic area research. \n",
    "- The technical skills required to preprocess, analyze, and visualize multimodal data using various software tools and python programming libraries.\n",
    "\n",
    "### Learning Objectives\n",
    "\n",
    "After *Multimodal workshop* participant should be able to:  \n",
    "\n",
    "- List the challenges associated with multimodal models, including data integration, model complexity, and computational demands. \n",
    "- Identify strategies to mitigate limitations and optimize multimodal model performance in practical scenarios. \n",
    "- Effectively apply cutting-edge multimodal tools, such as MetaAI's *Segment Anything Model,* to specific use cases. \n",
    "- Describe how multi-modal data can lead to better performance, interpretability and explainability of AI models \n",
    "- Summarize how multimodal data science can support drug discovery and development at AstraZeneca. \n",
    "\n",
    "\n",
    "### Audience\n",
    "\n",
    "*Multimodal workshop* is open to any AstraZeneca colleagues with working knowledge of Python, including basic programming concepts, data structures, and familiarity with executing scripts. We are so excited that you want to learn about multimodal data science :) ! We will start with a brief recap on deep learning concepts and we will build up from there.\n",
    "\n",
    "\n",
    "### Feedback\n",
    "\n",
    "Questions, suggestions and ideas from participants are welcomed via the Teams chat, e-mail or during the lectures and recaps. Enjoy!\n",
    "\n",
    "\n",
    "### Obtaining course materials\n",
    "\n",
    "The course materials (Jupyter notebooks used during hands-on sessions) will be accessible via GitHub: https://github.com/AstraZeneca/multimodal-python-course  \n",
    "\n",
    "We’d like you to follow along with the example code as we go through the course materials together and attempt the exercises to practice what you’ve learned. \n",
    " \n",
    "**Important**: the course materials will be updated throughout the course, so we recommend downloading the most recent version of the materials before each lecture. \n",
    "\n"
   ]
  },
  {
   "cell_type": "code",
   "execution_count": null,
   "metadata": {},
   "outputs": [],
   "source": []
  }
 ],
 "metadata": {
  "kernelspec": {
   "display_name": "Python 3",
   "language": "python",
   "name": "python3"
  },
  "language_info": {
   "codemirror_mode": {
    "name": "ipython",
    "version": 3
   },
   "file_extension": ".py",
   "mimetype": "text/x-python",
   "name": "python",
   "nbconvert_exporter": "python",
   "pygments_lexer": "ipython3",
   "version": "3.9.7"
  },
  "orig_nbformat": 4
 },
 "nbformat": 4,
 "nbformat_minor": 2
}
